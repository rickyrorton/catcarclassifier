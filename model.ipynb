{
 "cells": [
  {
   "cell_type": "code",
   "execution_count": null,
   "metadata": {},
   "outputs": [],
   "source": [
    "import tensorflow as tf\n",
    "import os\n",
    "from matplotlib import pyplot as plt"
   ]
  },
  {
   "cell_type": "code",
   "execution_count": null,
   "metadata": {},
   "outputs": [],
   "source": [
    "gpus = tf.config.experimental.list_physical_devices('GPU')\n",
    "if gpus:\n",
    "  try:\n",
    "    tf.config.experimental.set_virtual_device_configuration(gpus[0], [tf.config.experimental.VirtualDeviceConfiguration(memory_limit=1024*4)])\n",
    "  except RuntimeError as e:\n",
    "    print(e)"
   ]
  },
  {
   "cell_type": "code",
   "execution_count": null,
   "metadata": {},
   "outputs": [],
   "source": [
    "imsize=(64,64)\n",
    "ipsize=imsize+(3,)\n",
    "data=tf.keras.utils.image_dataset_from_directory('dataset/images/',image_size=imsize)\n",
    "'''data_augmentation = tf.keras.Sequential([\n",
    "    tf.keras.layers.experimental.preprocessing.Rescaling(1./255),\n",
    "    tf.keras.layers.experimental.preprocessing.RandomFlip(\"horizontal\"),\n",
    "    tf.keras.layers.experimental.preprocessing.RandomRotation(0.2),\n",
    "    # Add more preprocessing layers as needed\n",
    "])\n",
    "data = data.map(lambda x, y: (data_augmentation(x, training=True), y))'''"
   ]
  },
  {
   "cell_type": "code",
   "execution_count": null,
   "metadata": {},
   "outputs": [],
   "source": [
    "#Label 1 is DOG\n",
    "#Label 0 is CAT\n",
    "train_size=int(len(data)*.8)\n",
    "val_size=int(len(data)*.2)+1\n",
    "#test_size=int(len(data)*.1)+1\n",
    "#all_size=len(data)"
   ]
  },
  {
   "cell_type": "code",
   "execution_count": null,
   "metadata": {},
   "outputs": [],
   "source": [
    "data=data.map(lambda x,y:(x/255,y))"
   ]
  },
  {
   "cell_type": "code",
   "execution_count": null,
   "metadata": {},
   "outputs": [],
   "source": [
    "train=data.take(len(data))\n",
    "val=data.skip(train_size).take(val_size)\n",
    "#test=data.skip(train_size+val_size).take(test_size)\n",
    "#all_data=data.take(all_size)\n",
    "#train=tf.keras.utils.image_dataset_from_directory('dataset/train/',image_size=imsize,validation_split=0.2,subset=\"training\",seed=42,batch_size=32)\n",
    "#val=tf.keras.utils.image_dataset_from_directory('dataset/train/',image_size=imsize,validation_split=0.2,subset=\"validation\",seed=42,batch_size=32)\n",
    "#train=train.map(lambda x,y:(x/255,y))\n",
    "#val=val.map(lambda x,y:(x/255,y))"
   ]
  },
  {
   "cell_type": "code",
   "execution_count": null,
   "metadata": {},
   "outputs": [],
   "source": [
    "from tensorflow.keras.models import Sequential\n",
    "from tensorflow.keras.layers import Conv2D,MaxPooling2D,Dense,Flatten,BatchNormalization,Dropout,GlobalAveragePooling2D"
   ]
  },
  {
   "cell_type": "code",
   "execution_count": null,
   "metadata": {},
   "outputs": [],
   "source": [
    "model=Sequential()\n",
    "model.add(Conv2D(64, (3, 3), activation='relu', input_shape=ipsize))\n",
    "model.add(MaxPooling2D((2, 2)))\n",
    "model.add(BatchNormalization())\n",
    "\n",
    "\n",
    "model.add(Conv2D(128, (3, 3), activation='relu'))\n",
    "model.add(MaxPooling2D((2, 2)))\n",
    "model.add(BatchNormalization())\n",
    "\n",
    "model.add(Conv2D(64, (3, 3), activation='relu'))\n",
    "model.add(MaxPooling2D((2, 2)))\n",
    "model.add(BatchNormalization())\n",
    "\n",
    "# Flatten layer\n",
    "model.add(Flatten())\n",
    "\n",
    "# Fully connected layers\n",
    "model.add(Dense(64, activation='relu'))\n",
    "#model.add(BatchNormalization())\n",
    "model.add(Dropout(0.25))  # Optional dropout layer to reduce overfitting\n",
    "model.add(Dense(1, activation='sigmoid'))\n",
    "model.compile(optimizer = 'adam' ,loss='binary_crossentropy',metrics=['accuracy'])\n",
    "model.summary()"
   ]
  },
  {
   "cell_type": "code",
   "execution_count": null,
   "metadata": {},
   "outputs": [],
   "source": [
    "logdir='logs'\n",
    "tensor_callback=tf.keras.callbacks.TensorBoard(log_dir=logdir)\n",
    "hist=model.fit(train,validation_data=val,epochs=20,callbacks=[tensor_callback])"
   ]
  },
  {
   "cell_type": "code",
   "execution_count": null,
   "metadata": {},
   "outputs": [],
   "source": [
    "fig=plt.figure()\n",
    "plt.plot(hist.history['loss'],color='teal',label='loss')\n",
    "plt.plot(hist.history['val_loss'],color='orange',label='val_loss')\n",
    "fig.suptitle('Loss',fontsize=20)\n",
    "plt.legend(loc='upper left')\n",
    "plt.show()"
   ]
  },
  {
   "cell_type": "code",
   "execution_count": null,
   "metadata": {},
   "outputs": [],
   "source": [
    "fig=plt.figure()\n",
    "plt.plot(hist.history['accuracy'],color='teal',label='accuracy')\n",
    "plt.plot(hist.history['val_accuracy'],color='orange',label='val_accuracy')\n",
    "fig.suptitle('Accuracy',fontsize=20)\n",
    "plt.legend(loc='upper left')\n",
    "plt.show()"
   ]
  },
  {
   "cell_type": "code",
   "execution_count": null,
   "metadata": {},
   "outputs": [],
   "source": [
    "model.save(os.path.join('models','catdogclassifier.h5'))"
   ]
  },
  {
   "cell_type": "code",
   "execution_count": null,
   "metadata": {},
   "outputs": [],
   "source": [
    "'''from tensorflow.keras.metrics import Precision,Recall,BinaryAccuracy\n",
    "pre=Precision()\n",
    "re=Recall()\n",
    "acc=BinaryAccuracy()'''"
   ]
  },
  {
   "cell_type": "code",
   "execution_count": null,
   "metadata": {},
   "outputs": [],
   "source": [
    "'''for batch in test.as_numpy_iterator():\n",
    "    x,y=batch\n",
    "    yhat=model.predict(x)\n",
    "    pre.update_state(y,yhat)\n",
    "    re.update_state(y,yhat)\n",
    "    acc.update_state(y,yhat)\n",
    "print('Precision:',pre.result().numpy(),'Recall:',re.result().numpy(),'Accuracy:',acc.result().numpy())'''"
   ]
  }
 ],
 "metadata": {
  "kernelspec": {
   "display_name": "venv",
   "language": "python",
   "name": "python3"
  },
  "language_info": {
   "codemirror_mode": {
    "name": "ipython",
    "version": 3
   },
   "file_extension": ".py",
   "mimetype": "text/x-python",
   "name": "python",
   "nbconvert_exporter": "python",
   "pygments_lexer": "ipython3",
   "version": "3.11.5"
  }
 },
 "nbformat": 4,
 "nbformat_minor": 2
}
