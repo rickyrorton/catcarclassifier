{
 "cells": [
  {
   "cell_type": "code",
   "execution_count": null,
   "metadata": {},
   "outputs": [],
   "source": [
    "from tensorflow.keras.models import load_model\n",
    "import numpy as np\n",
    "import os\n",
    "from tensorflow.keras.preprocessing import image\n",
    "model=load_model(os.path.join('models','catdogclassifier.h5'))\n",
    "imsize=(192,192)\n",
    "try:\n",
    "    os.remove('cats.txt')\n",
    "    os.remove('dogs.txt')\n",
    "except:\n",
    "    pass"
   ]
  },
  {
   "cell_type": "code",
   "execution_count": null,
   "metadata": {},
   "outputs": [],
   "source": [
    "acc1=0\n",
    "for i in os.listdir('datasetbkup/test/cats'):\n",
    "    filename=os.path.join('datasetbkup/test/cats',i)\n",
    "    img=image.load_img(filename, target_size=imsize)\n",
    "    resized_img=image.img_to_array(img)\n",
    "    final=np.expand_dims(resized_img/255,axis=0)\n",
    "    predictions=model.predict(final)\n",
    "    animaltype='cat' if predictions < 0.5 else 'dog'\n",
    "    acc1+=1 if animaltype == 'cat' else 0\n",
    "    with open('cats.txt','a') as f:\n",
    "        f.writelines(str(i)+'    '+str(predictions)+'     '+str(animaltype)+'\\n')\n",
    "acc1/=len(os.listdir('datasetbkup/test/cats'))\n",
    "print(acc1)"
   ]
  },
  {
   "cell_type": "code",
   "execution_count": null,
   "metadata": {},
   "outputs": [],
   "source": [
    "acc2=0\n",
    "for i in os.listdir('datasetbkup/test/dogs'):\n",
    "    filename=os.path.join('datasetbkup/test/dogs',i)\n",
    "    img=image.load_img(filename, target_size=imsize)\n",
    "    resized_img=image.img_to_array(img)\n",
    "    final=np.expand_dims(resized_img/255,axis=0)\n",
    "    predictions=model.predict(final)\n",
    "    animaltype='cat' if predictions < 0.5 else 'dog'\n",
    "    acc2+=1 if animaltype=='dog' else 0\n",
    "    with open('dogs.txt','a') as f:\n",
    "        f.writelines(str(i)+'    '+str(predictions)+'     '+str(animaltype)+'\\n')\n",
    "acc2/=len(os.listdir('datasetbkup/test/dogs'))\n",
    "print(acc2)\n",
    "print((acc1+acc2)/2)"
   ]
  }
 ],
 "metadata": {
  "kernelspec": {
   "display_name": "base",
   "language": "python",
   "name": "python3"
  },
  "language_info": {
   "codemirror_mode": {
    "name": "ipython",
    "version": 3
   },
   "file_extension": ".py",
   "mimetype": "text/x-python",
   "name": "python",
   "nbconvert_exporter": "python",
   "pygments_lexer": "ipython3",
   "version": "3.11.5"
  }
 },
 "nbformat": 4,
 "nbformat_minor": 2
}
